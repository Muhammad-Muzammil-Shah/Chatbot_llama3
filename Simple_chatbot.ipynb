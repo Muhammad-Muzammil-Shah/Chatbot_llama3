{
 "cells": [
  {
   "cell_type": "code",
   "execution_count": 3,
   "id": "cdedfb10-eec0-495c-9a82-7f9202e2a7d6",
   "metadata": {},
   "outputs": [],
   "source": [
    "import os\n",
    "os.environ[\"GROQ_API_KEY\"] = \"\"\n"
   ]
  },
  {
   "cell_type": "code",
   "execution_count": 15,
   "id": "c0c28baa-095d-461a-8379-b8ea22458b45",
   "metadata": {},
   "outputs": [
    {
     "name": "stdin",
     "output_type": "stream",
     "text": [
      "Chat with me Dear:  what is Groq\n"
     ]
    },
    {
     "name": "stdout",
     "output_type": "stream",
     "text": [
      "Groq is an AI technology company that focuses on building transformer-based AI models for various applications, including natural language processing (NLP), computer vision, and generative models. The company was founded in 2019 by a team of researchers from Google and has since raised significant funding from investors like Andreessen Horowitz and Threshold Ventures.\n",
      "\n",
      "Groq's main innovation is its ability to build large-scale transformer models, which are a type of neural network architecture that has been highly successful in various AI applications. Traditional transformer models are compute-intensive and require significant amounts of memory and energy to train and deploy. Groq's technology, however, enables the development of transformer models that are more efficient, scalable, and cost-effective.\n",
      "\n",
      "Groq's platform is designed to address some of the key challenges in building and deploying AI models, including:\n",
      "\n",
      "1. **Scalability**: Groq's technology allows for the training and deployment of large-scale transformer models on a variety of devices, from edge devices to cloud-based infrastructure.\n",
      "2. **Efficiency**: Groq's models are designed to be more energy-efficient and require less memory, making them more suitable for deployment on resource-constrained devices.\n",
      "3. ** Flexibility**: Groq's platform allows for the development of models for a wide range of applications, including NLP, computer vision, and generative models.\n",
      "4. **Ease of use**: Groq provides a suite of tools and libraries that make it easier for developers to build, train, and deploy AI models.\n",
      "\n",
      "Groq's technology has applications in various industries, including:\n",
      "\n",
      "1. **Customer service**: Groq's AI models can be used to power chatbots and virtual assistants, enabling more effective customer service.\n",
      "2. **Cybersecurity**: Groq's models can be used to analyze and detect cyber threats in real-time.\n",
      "3. **Healthcare**: Groq's technology can be used to develop AI-powered diagnostic tools and treatment planning systems.\n",
      "4. **Finance**: Groq's models can be used to power predictive analytics and risk assessment in the financial industry.\n",
      "\n",
      "Overall, Groq is a rapidly growing company that is pushing the boundaries of AI research and development, and its technology has the potential to transform various industries.\n"
     ]
    }
   ],
   "source": [
    "import os\n",
    "\n",
    "from groq import Groq\n",
    "\n",
    "client = Groq(\n",
    "    api_key=os.environ.get(\"GROQ_API_KEY\"),\n",
    ")\n",
    "\n",
    "chat_completion = client.chat.completions.create(\n",
    "    messages=[\n",
    "        {\n",
    "            \"role\": \"user\",\n",
    "            \"content\": input(\"Chat with me Dear: \"),\n",
    "        }\n",
    "    ],\n",
    "    model=\"llama3-8b-8192\",\n",
    ")\n",
    "\n",
    "print(chat_completion.choices[0].message.content)"
   ]
  },
  {
   "cell_type": "code",
   "execution_count": null,
   "id": "9574e340-52bd-411a-b3f5-2d2ec7c4f596",
   "metadata": {},
   "outputs": [],
   "source": []
  }
 ],
 "metadata": {
  "kernelspec": {
   "display_name": "Python 3 (ipykernel)",
   "language": "python",
   "name": "python3"
  },
  "language_info": {
   "codemirror_mode": {
    "name": "ipython",
    "version": 3
   },
   "file_extension": ".py",
   "mimetype": "text/x-python",
   "name": "python",
   "nbconvert_exporter": "python",
   "pygments_lexer": "ipython3",
   "version": "3.12.7"
  }
 },
 "nbformat": 4,
 "nbformat_minor": 5
}
